{
  "nbformat": 4,
  "nbformat_minor": 0,
  "metadata": {
    "colab": {
      "provenance": [],
      "authorship_tag": "ABX9TyPGcOND3T+sA5k9ek6UVUcW",
      "include_colab_link": true
    },
    "kernelspec": {
      "name": "python3",
      "display_name": "Python 3"
    },
    "language_info": {
      "name": "python"
    }
  },
  "cells": [
    {
      "cell_type": "markdown",
      "metadata": {
        "id": "view-in-github",
        "colab_type": "text"
      },
      "source": [
        "<a href=\"https://colab.research.google.com/github/ktg6569/0625_test/blob/main/0625_python_define.ipynb\" target=\"_parent\"><img src=\"https://colab.research.google.com/assets/colab-badge.svg\" alt=\"Open In Colab\"/></a>"
      ]
    },
    {
      "cell_type": "markdown",
      "source": [
        "함수정의"
      ],
      "metadata": {
        "id": "7vAeiCbsiXvO"
      }
    },
    {
      "cell_type": "markdown",
      "source": [
        "함수 만들기"
      ],
      "metadata": {
        "id": "1NAmASdZk9BF"
      }
    },
    {
      "cell_type": "code",
      "source": [
        "def my_function():\n",
        "  print(\"Hello from a function\")"
      ],
      "metadata": {
        "id": "K9dMNa53k8f6"
      },
      "execution_count": null,
      "outputs": []
    },
    {
      "cell_type": "markdown",
      "source": [
        "함수 호출"
      ],
      "metadata": {
        "id": "kLF-JdUvlDPy"
      }
    },
    {
      "cell_type": "code",
      "source": [
        "def my_function():\n",
        "  print(\"Hello from a function\")\n",
        "\n",
        "\n",
        "my_function()"
      ],
      "metadata": {
        "id": "XaeH-b78lFYf"
      },
      "execution_count": null,
      "outputs": []
    },
    {
      "cell_type": "markdown",
      "source": [
        "인수"
      ],
      "metadata": {
        "id": "yvwq6pwNlO1p"
      }
    },
    {
      "cell_type": "code",
      "source": [
        "def my_function(fname):\n",
        "  print(fname + \" Refsnes\")\n",
        "\n",
        "\n",
        "my_function(\"Emil\")\n",
        "my_function(\"Tobias\")\n",
        "my_function(\"Linus\")"
      ],
      "metadata": {
        "colab": {
          "base_uri": "https://localhost:8080/"
        },
        "id": "1trUSMKylOSl",
        "outputId": "07906b2e-a20c-47bf-e536-57e505cdfb56"
      },
      "execution_count": 3,
      "outputs": [
        {
          "output_type": "stream",
          "name": "stdout",
          "text": [
            "Emil Refsnes\n",
            "Tobias Refsnes\n",
            "Linus Refsnes\n"
          ]
        }
      ]
    },
    {
      "cell_type": "markdown",
      "source": [
        "인수의 수"
      ],
      "metadata": {
        "id": "1qtA-qskln1N"
      }
    },
    {
      "cell_type": "code",
      "source": [
        "def my_function(fname, lname):\n",
        "  print(fname + \" \" + lname)\n",
        "\n",
        "\n",
        "my_function(\"Emil\", \"Refsnes\")"
      ],
      "metadata": {
        "colab": {
          "base_uri": "https://localhost:8080/"
        },
        "id": "gZI2vIy4lorS",
        "outputId": "9dc0d1eb-5437-4528-925c-e729fa0df03a"
      },
      "execution_count": 4,
      "outputs": [
        {
          "output_type": "stream",
          "name": "stdout",
          "text": [
            "Emil Refsnes\n"
          ]
        }
      ]
    },
    {
      "cell_type": "markdown",
      "source": [
        "임의의 인수, *args"
      ],
      "metadata": {
        "id": "sKTO_9G3l2CO"
      }
    },
    {
      "cell_type": "code",
      "source": [
        "def my_function(*kids):\n",
        "  print(\"The youngest child is \" + kids[2])\n",
        "\n",
        "\n",
        "my_function(\"Emil\", \"Tobias\", \"Linus\")"
      ],
      "metadata": {
        "colab": {
          "base_uri": "https://localhost:8080/"
        },
        "id": "UXYoLTvml4c7",
        "outputId": "46318795-84cf-4fd0-dbfc-7278150d1bcf"
      },
      "execution_count": 5,
      "outputs": [
        {
          "output_type": "stream",
          "name": "stdout",
          "text": [
            "The youngest child is Linus\n"
          ]
        }
      ]
    },
    {
      "cell_type": "markdown",
      "source": [
        "키워드 인수"
      ],
      "metadata": {
        "id": "lonuz6DTl_lk"
      }
    },
    {
      "cell_type": "code",
      "source": [
        "def my_function(child3, child2, child1):\n",
        "  print(\"The youngest child is \" + child3)\n",
        "\n",
        "\n",
        "my_function(child1 = \"Emil\", child2 = \"Tobias\", child3 = \"Linus\")"
      ],
      "metadata": {
        "colab": {
          "base_uri": "https://localhost:8080/"
        },
        "id": "E--dSSmfmHGY",
        "outputId": "31db351a-74ef-42cc-df22-376a5edcfc66"
      },
      "execution_count": 6,
      "outputs": [
        {
          "output_type": "stream",
          "name": "stdout",
          "text": [
            "The youngest child is Linus\n"
          ]
        }
      ]
    },
    {
      "cell_type": "markdown",
      "source": [
        "임의의 키워드 인수, **kwargs"
      ],
      "metadata": {
        "id": "6y3fUetAmU4w"
      }
    },
    {
      "cell_type": "code",
      "source": [
        "def my_function(**kid):\n",
        "  print(\"His last name is \"+kid[\"lname\"])\n",
        "\n",
        "\n",
        "my_function(fname=\"Tobias\",lname=\"Refsnes\")"
      ],
      "metadata": {
        "colab": {
          "base_uri": "https://localhost:8080/"
        },
        "id": "seTPT6jDmYKQ",
        "outputId": "0942173e-60f4-4b19-9678-fc9d22248f42"
      },
      "execution_count": 8,
      "outputs": [
        {
          "output_type": "stream",
          "name": "stdout",
          "text": [
            "His last name is Refsnes\n"
          ]
        }
      ]
    },
    {
      "cell_type": "markdown",
      "source": [
        "기본 매개변수 값"
      ],
      "metadata": {
        "id": "TONpB-M5m0pn"
      }
    },
    {
      "cell_type": "code",
      "source": [
        "def my_function(country=\"Norway\"):\n",
        "  print(\"I am from \"+country)\n",
        "\n",
        "\n",
        "my_function(\"Sweden\")\n",
        "my_function(\"India\")\n",
        "my_function()\n",
        "my_function(\"Brazil\")"
      ],
      "metadata": {
        "colab": {
          "base_uri": "https://localhost:8080/"
        },
        "id": "u9s9c48Zm2Tb",
        "outputId": "1bb6b439-5b99-4f8e-c123-2d0dc77ec292"
      },
      "execution_count": 9,
      "outputs": [
        {
          "output_type": "stream",
          "name": "stdout",
          "text": [
            "I am from Sweden\n",
            "I am from India\n",
            "I am from Norway\n",
            "I am from Brazil\n"
          ]
        }
      ]
    },
    {
      "cell_type": "markdown",
      "source": [
        "인수로 목록 전달하기"
      ],
      "metadata": {
        "id": "8iiXHLkDm7Di"
      }
    },
    {
      "cell_type": "code",
      "source": [
        "def my_function(food):\n",
        "  for x in food:\n",
        "    print(x)\n",
        "\n",
        "\n",
        "fruits=[\"apple\",\"banana\",\"cherry\"]\n",
        "\n",
        "my_function(fruits)"
      ],
      "metadata": {
        "id": "yA4HFvvwnGwg"
      },
      "execution_count": null,
      "outputs": []
    },
    {
      "cell_type": "markdown",
      "source": [
        "기본함수들"
      ],
      "metadata": {
        "id": "AfGzjllTibBF"
      }
    },
    {
      "cell_type": "code",
      "execution_count": 2,
      "metadata": {
        "colab": {
          "base_uri": "https://localhost:8080/",
          "height": 110
        },
        "id": "Z-Ik5GZ1iT1x",
        "outputId": "298858b9-600f-4bab-cef8-10d1fa436aa8"
      },
      "outputs": [
        {
          "output_type": "error",
          "ename": "IndentationError",
          "evalue": "unindent does not match any outer indentation level (<tokenize>, line 7)",
          "traceback": [
            "\u001b[0;36m  File \u001b[0;32m\"<tokenize>\"\u001b[0;36m, line \u001b[0;32m7\u001b[0m\n\u001b[0;31m    return img\u001b[0m\n\u001b[0m    ^\u001b[0m\n\u001b[0;31mIndentationError\u001b[0m\u001b[0;31m:\u001b[0m unindent does not match any outer indentation level\n"
          ]
        }
      ],
      "source": [
        "def draw_boxws(img,boxes,conf,cls):\n",
        "   for i, (x1, y1, x2, y2) in enumerate(boxes):\n",
        "        if conf[i] > 0.5:\n",
        "            cv2.rectangle(img, (int(x1), int(y1)), (int(x2), int(y2)), (0, 255, 0), 2)\n",
        "            cv2.putText(img, f'{cls[i]}: {conf[i]:.2f}', (int(x1), int(y1)-10),\n",
        "                       cv2.FONT_HERSHEY_SIMPLEX, 0.5, (0, 255, 0), 2)\n",
        "    return img"
      ]
    },
    {
      "cell_type": "markdown",
      "source": [
        "과속 여부 판단 함수"
      ],
      "metadata": {
        "id": "vY69eMaMywJc"
      }
    },
    {
      "cell_type": "code",
      "source": [
        "def check_overspeed(current_speed, speed_limit):\n",
        "    if current_speed > speed_limit:\n",
        "        return \"과속입니다! 감속하세요.\"\n",
        "    else:\n",
        "        return \"정상 속도입니다.\""
      ],
      "metadata": {
        "id": "LGVkrHbcrQpV"
      },
      "execution_count": null,
      "outputs": []
    },
    {
      "cell_type": "markdown",
      "source": [
        "객체 종류에 따른 대응 함수"
      ],
      "metadata": {
        "id": "INtZEn4Cy5r_"
      }
    },
    {
      "cell_type": "code",
      "source": [
        "def respond_to_object(obj_type):\n",
        "    if obj_type == \"person\":\n",
        "        return \"⚠️ 보행자 감지! 정지 준비.\"\n",
        "    elif obj_type == \"car\":\n",
        "        return \"차량 감지: 차간거리 유지.\"\n",
        "    elif obj_type == \"bicycle\":\n",
        "        return \"자전거 감지: 조심 운전.\"\n",
        "    else:\n",
        "        return \"미확인 객체 감지: 주의 필요.\""
      ],
      "metadata": {
        "id": "qQIbJyd_y50G"
      },
      "execution_count": null,
      "outputs": []
    },
    {
      "cell_type": "markdown",
      "source": [
        "신호등에 따른 행동 판단 함수"
      ],
      "metadata": {
        "id": "qFwEB7WOy6Um"
      }
    },
    {
      "cell_type": "code",
      "source": [
        "def traffic_light_action(signal_color):\n",
        "    if signal_color == \"red\":\n",
        "        return \"정지하세요.\"\n",
        "    elif signal_color == \"green\":\n",
        "        return \"출발하세요.\"\n",
        "    elif signal_color == \"yellow\":\n",
        "        return \"주의! 감속 준비.\"\n",
        "    else:\n",
        "        return \"알 수 없는 신호입니다.\""
      ],
      "metadata": {
        "id": "zrLkNlO2y6bX"
      },
      "execution_count": null,
      "outputs": []
    },
    {
      "cell_type": "markdown",
      "source": [
        "장애물과의 거리 판단 함수"
      ],
      "metadata": {
        "id": "5Im_TXnYy6h1"
      }
    },
    {
      "cell_type": "code",
      "source": [
        "def check_obstacle_distance(distance):\n",
        "    if distance < 30:\n",
        "        return \"⚠️ 너무 가까움! 긴급 정지!\"\n",
        "    elif distance < 60:\n",
        "        return \"주의! 속도 줄이세요.\"\n",
        "    else:\n",
        "        return \"안전 거리 확보됨.\""
      ],
      "metadata": {
        "id": "L2Cd2jqWy6m2"
      },
      "execution_count": null,
      "outputs": []
    },
    {
      "cell_type": "markdown",
      "source": [
        "차선 이탈 여부 판단 함수"
      ],
      "metadata": {
        "id": "mpmEXrpeyyvc"
      }
    },
    {
      "cell_type": "code",
      "source": [
        "def is_lane_departed(car_x, lane_left, lane_right):\n",
        "    if car_x < lane_left or car_x > lane_right:\n",
        "        return True  # 차선 이탈\n",
        "    else:\n",
        "        return False  # 차선 유지"
      ],
      "metadata": {
        "id": "kAWG-azbrRWe"
      },
      "execution_count": null,
      "outputs": []
    }
  ]
}