{
  "nbformat": 4,
  "nbformat_minor": 0,
  "metadata": {
    "colab": {
      "provenance": [],
      "authorship_tag": "ABX9TyPGFQTg7sZa32BXRNE4q8El",
      "include_colab_link": true
    },
    "kernelspec": {
      "name": "python3",
      "display_name": "Python 3"
    },
    "language_info": {
      "name": "python"
    }
  },
  "cells": [
    {
      "cell_type": "markdown",
      "metadata": {
        "id": "view-in-github",
        "colab_type": "text"
      },
      "source": [
        "<a href=\"https://colab.research.google.com/github/ktg6569/0625_test/blob/main/0625_python_class.ipynb\" target=\"_parent\"><img src=\"https://colab.research.google.com/assets/colab-badge.svg\" alt=\"Open In Colab\"/></a>"
      ]
    },
    {
      "cell_type": "markdown",
      "source": [
        "객체 생성"
      ],
      "metadata": {
        "id": "r_fjHyyywAB_"
      }
    },
    {
      "cell_type": "code",
      "source": [
        "p1=MyClass()\n",
        "print(p1.x)"
      ],
      "metadata": {
        "id": "cqnm0ZkdwCB2"
      },
      "execution_count": null,
      "outputs": []
    },
    {
      "cell_type": "markdown",
      "source": [
        "__init__()함수"
      ],
      "metadata": {
        "id": "mN9HnEB7wHXh"
      }
    },
    {
      "cell_type": "code",
      "source": [
        "class Person:\n",
        "  def __init__(self, name, age):\n",
        "    self.name = name\n",
        "    self.age = age\n",
        "\n",
        "p1 = Person(\"John\", 36)\n",
        "\n",
        "print(p1.name)\n",
        "print(p1.age)"
      ],
      "metadata": {
        "colab": {
          "base_uri": "https://localhost:8080/"
        },
        "id": "M0eMed-9wKHQ",
        "outputId": "f3a45725-8bfe-4600-9400-8c20f77fe60d"
      },
      "execution_count": 1,
      "outputs": [
        {
          "output_type": "stream",
          "name": "stdout",
          "text": [
            "John\n",
            "36\n"
          ]
        }
      ]
    },
    {
      "cell_type": "markdown",
      "source": [
        "__str__()함수"
      ],
      "metadata": {
        "id": "RnIAgd4CwyMS"
      }
    },
    {
      "cell_type": "code",
      "source": [
        "class Person:\n",
        "  def __init__(self, name, age):\n",
        "    self.name = name\n",
        "    self.age = age\n",
        "\n",
        "  def __str__(self):\n",
        "    return f\"{self.name}({self.age})\"\n",
        "\n",
        "p1 = Person(\"John\", 36)\n",
        "\n",
        "print(p1)"
      ],
      "metadata": {
        "id": "4ZVaT-guw0C2"
      },
      "execution_count": null,
      "outputs": []
    },
    {
      "cell_type": "markdown",
      "source": [
        "객체 메서드"
      ],
      "metadata": {
        "id": "Z2C38zLMyS-J"
      }
    },
    {
      "cell_type": "code",
      "source": [
        "class Person:\n",
        "  def __init__(self, name, age):\n",
        "    self.name = name\n",
        "    self.age = age\n",
        "\n",
        "  def myfunc(self):\n",
        "    print(\"Hello my name is \" + self.name)\n",
        "\n",
        "p1= Person(\"John\",36)\n",
        "p1.myfunc()"
      ],
      "metadata": {
        "id": "vbXXBkqZyUDH"
      },
      "execution_count": null,
      "outputs": []
    },
    {
      "cell_type": "markdown",
      "source": [
        "자기 매개변수"
      ],
      "metadata": {
        "id": "Tr-RuG-NydES"
      }
    },
    {
      "cell_type": "code",
      "source": [
        "class Person:\n",
        "  def __init__(mysillyobject, name, age):\n",
        "    mysillyobject.name = name\n",
        "    mysillyobject.age = age\n",
        "\n",
        "  def myfunc(abc):\n",
        "    print(\"Hello my name is \" + abc.name)\n",
        "\n",
        "p1 = Person(\"John\", 36)\n",
        "p1.myfunc()"
      ],
      "metadata": {
        "id": "FHDKNOLayd8W"
      },
      "execution_count": null,
      "outputs": []
    },
    {
      "cell_type": "markdown",
      "source": [
        "속도 제어\n"
      ],
      "metadata": {
        "id": "EcMHOdEmrzWU"
      }
    },
    {
      "cell_type": "code",
      "source": [],
      "metadata": {
        "id": "-1Mq5oVkwJlB"
      },
      "execution_count": null,
      "outputs": []
    },
    {
      "cell_type": "code",
      "execution_count": null,
      "metadata": {
        "id": "OLGY_56nrimm"
      },
      "outputs": [],
      "source": [
        "class Vehicle:\n",
        "    def __init__(self, speed=0):\n",
        "        self.speed = speed\n",
        "\n",
        "    def accelerate(self):\n",
        "        self.speed += 10\n",
        "        print(f\"가속: 현재 속도 {self.speed}km/h\")\n",
        "\n",
        "    def brake(self):\n",
        "        self.speed -= 10\n",
        "        print(f\"감속: 현재 속도 {self.speed}km/h\")"
      ]
    },
    {
      "cell_type": "markdown",
      "source": [
        "신호등 상태 관리"
      ],
      "metadata": {
        "id": "j8bG9d76ryPG"
      }
    },
    {
      "cell_type": "code",
      "source": [
        "class TrafficLight:\n",
        "    def __init__(self, color):\n",
        "        self.color = color\n",
        "\n",
        "    def is_green(self):\n",
        "        return self.color == \"green\""
      ],
      "metadata": {
        "id": "h9jrVBoprnmN"
      },
      "execution_count": null,
      "outputs": []
    },
    {
      "cell_type": "markdown",
      "source": [
        "거리 감지"
      ],
      "metadata": {
        "id": "AkE8T994rwsD"
      }
    },
    {
      "cell_type": "code",
      "source": [
        "class DistanceSensor:\n",
        "    def __init__(self, distance):\n",
        "        self.distance = distance\n",
        "\n",
        "    def is_too_close(self):\n",
        "        return self.distance < 30"
      ],
      "metadata": {
        "id": "nZefLqV6ro-O"
      },
      "execution_count": null,
      "outputs": []
    },
    {
      "cell_type": "markdown",
      "source": [
        "차선 감지"
      ],
      "metadata": {
        "id": "0FWKBQyOru19"
      }
    },
    {
      "cell_type": "code",
      "source": [
        "class LaneDetector:\n",
        "    def __init__(self, car_position, lane_left, lane_right):\n",
        "        self.car_position = car_position\n",
        "        self.lane_left = lane_left\n",
        "        self.lane_right = lane_right\n",
        "\n",
        "    def is_departing(self):\n",
        "        return self.car_position < self.lane_left or self.car_position > self.lane_right\n"
      ],
      "metadata": {
        "id": "npdNLVY-rp1A"
      },
      "execution_count": null,
      "outputs": []
    },
    {
      "cell_type": "markdown",
      "source": [
        "경고 알림"
      ],
      "metadata": {
        "id": "b70lszgLrs7B"
      }
    },
    {
      "cell_type": "code",
      "source": [
        "class WarningSystem:\n",
        "    def __init__(self):\n",
        "        self.messages = []\n",
        "\n",
        "    def add_warning(self, msg):\n",
        "        self.messages.append(msg)\n",
        "\n",
        "    def show_warnings(self):\n",
        "        for msg in self.messages:\n",
        "            print(f\"⚠️ 경고: {msg}\")"
      ],
      "metadata": {
        "id": "4jPpyplNrrXJ"
      },
      "execution_count": null,
      "outputs": []
    }
  ]
}