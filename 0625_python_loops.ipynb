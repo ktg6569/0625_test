{
  "nbformat": 4,
  "nbformat_minor": 0,
  "metadata": {
    "colab": {
      "provenance": [],
      "authorship_tag": "ABX9TyMcN0DtxGfnK2tthner/Xox",
      "include_colab_link": true
    },
    "kernelspec": {
      "name": "python3",
      "display_name": "Python 3"
    },
    "language_info": {
      "name": "python"
    }
  },
  "cells": [
    {
      "cell_type": "markdown",
      "metadata": {
        "id": "view-in-github",
        "colab_type": "text"
      },
      "source": [
        "<a href=\"https://colab.research.google.com/github/ktg6569/0625_test/blob/main/0625_python_loops.ipynb\" target=\"_parent\"><img src=\"https://colab.research.google.com/assets/colab-badge.svg\" alt=\"Open In Colab\"/></a>"
      ]
    },
    {
      "cell_type": "markdown",
      "source": [
        "반복문 (while,for)"
      ],
      "metadata": {
        "id": "_7spBsrsgyxB"
      }
    },
    {
      "cell_type": "markdown",
      "source": [
        "문자열 반복"
      ],
      "metadata": {
        "id": "c8R0ZYuVvRTz"
      }
    },
    {
      "cell_type": "code",
      "source": [
        "for x in \"banana\":\n",
        "  print(x)"
      ],
      "metadata": {
        "colab": {
          "base_uri": "https://localhost:8080/"
        },
        "id": "7bbRKpxQvSXU",
        "outputId": "fd1025d3-d7f3-498e-f619-03d41548426d"
      },
      "execution_count": 3,
      "outputs": [
        {
          "output_type": "stream",
          "name": "stdout",
          "text": [
            "b\n",
            "a\n",
            "n\n",
            "a\n",
            "n\n",
            "a\n"
          ]
        }
      ]
    },
    {
      "cell_type": "markdown",
      "source": [
        "break 문"
      ],
      "metadata": {
        "id": "2IVPYNP1vVh8"
      }
    },
    {
      "cell_type": "code",
      "source": [
        "fruits=[\"apple\", \"banana\", \"cherry\"]\n",
        "for x in fruits:\n",
        "  print(x)\n",
        "  if x==\"banana\":\n",
        "    break"
      ],
      "metadata": {
        "colab": {
          "base_uri": "https://localhost:8080/"
        },
        "id": "k2gIw6OevWUB",
        "outputId": "042d9ff6-8144-4943-ad29-ab56096c50e0"
      },
      "execution_count": 4,
      "outputs": [
        {
          "output_type": "stream",
          "name": "stdout",
          "text": [
            "apple\n",
            "banana\n"
          ]
        }
      ]
    },
    {
      "cell_type": "markdown",
      "source": [
        "continue 문"
      ],
      "metadata": {
        "id": "qN25eHbwvcL8"
      }
    },
    {
      "cell_type": "code",
      "source": [
        "fruits=[\"apple\", \"banana\", \"cherry\"]\n",
        "for x in fruits:\n",
        "  if x==\"banana\":\n",
        "    continue\n",
        "  print(x)"
      ],
      "metadata": {
        "colab": {
          "base_uri": "https://localhost:8080/"
        },
        "id": "YNbJl02ivdB1",
        "outputId": "42111d8c-783e-4421-c9d8-bb204d4be442"
      },
      "execution_count": 5,
      "outputs": [
        {
          "output_type": "stream",
          "name": "stdout",
          "text": [
            "apple\n",
            "cherry\n"
          ]
        }
      ]
    },
    {
      "cell_type": "markdown",
      "source": [
        "range()함수"
      ],
      "metadata": {
        "id": "GPurk4SDvf9L"
      }
    },
    {
      "cell_type": "code",
      "source": [
        "for x in range(6):\n",
        "  print(x)"
      ],
      "metadata": {
        "colab": {
          "base_uri": "https://localhost:8080/"
        },
        "id": "vls5xM89vhSX",
        "outputId": "9f1215be-0fa6-4cd0-81cb-2243f7e1eb02"
      },
      "execution_count": 6,
      "outputs": [
        {
          "output_type": "stream",
          "name": "stdout",
          "text": [
            "0\n",
            "1\n",
            "2\n",
            "3\n",
            "4\n",
            "5\n"
          ]
        }
      ]
    },
    {
      "cell_type": "code",
      "source": [
        "for x in ragne(2,30,3):\n",
        "  print(x)"
      ],
      "metadata": {
        "colab": {
          "base_uri": "https://localhost:8080/",
          "height": 165
        },
        "id": "ZDwMCeidvoB-",
        "outputId": "0c4ee781-f299-43f3-d023-1e3589efd34a"
      },
      "execution_count": 7,
      "outputs": [
        {
          "output_type": "error",
          "ename": "NameError",
          "evalue": "name 'ragne' is not defined",
          "traceback": [
            "\u001b[0;31m---------------------------------------------------------------------------\u001b[0m",
            "\u001b[0;31mNameError\u001b[0m                                 Traceback (most recent call last)",
            "\u001b[0;32m/tmp/ipython-input-7-2196924476.py\u001b[0m in \u001b[0;36m<cell line: 0>\u001b[0;34m()\u001b[0m\n\u001b[0;32m----> 1\u001b[0;31m \u001b[0;32mfor\u001b[0m \u001b[0mx\u001b[0m \u001b[0;32min\u001b[0m \u001b[0mragne\u001b[0m\u001b[0;34m(\u001b[0m\u001b[0;36m2\u001b[0m\u001b[0;34m,\u001b[0m\u001b[0;36m30\u001b[0m\u001b[0;34m,\u001b[0m\u001b[0;36m3\u001b[0m\u001b[0;34m)\u001b[0m\u001b[0;34m:\u001b[0m\u001b[0;34m\u001b[0m\u001b[0;34m\u001b[0m\u001b[0m\n\u001b[0m\u001b[1;32m      2\u001b[0m   \u001b[0mprint\u001b[0m\u001b[0;34m(\u001b[0m\u001b[0mx\u001b[0m\u001b[0;34m)\u001b[0m\u001b[0;34m\u001b[0m\u001b[0;34m\u001b[0m\u001b[0m\n",
            "\u001b[0;31mNameError\u001b[0m: name 'ragne' is not defined"
          ]
        }
      ]
    },
    {
      "cell_type": "markdown",
      "source": [
        "for 루프의 Else"
      ],
      "metadata": {
        "id": "yv1CpW7Nvrw6"
      }
    },
    {
      "cell_type": "code",
      "source": [
        "for x in range(6):\n",
        "  if x ==3: break\n",
        "  print(x)\n",
        "else:\n",
        "  print(\"Finally finished!\")"
      ],
      "metadata": {
        "id": "_hJsPc6Hvs6G"
      },
      "execution_count": null,
      "outputs": []
    },
    {
      "cell_type": "markdown",
      "source": [
        "중첩 루프"
      ],
      "metadata": {
        "id": "3yeatS4_v3-y"
      }
    },
    {
      "cell_type": "code",
      "source": [
        "adj=[\"red\", \"big\", \"tasty\"]\n",
        "fruits=[\"apple\", \"banana\", \"cherry\"]\n",
        "\n",
        "for x in adj:\n",
        "  for y in fruits:\n",
        "    print(x,y)"
      ],
      "metadata": {
        "id": "Qyl6ZhPFv2Dm"
      },
      "execution_count": null,
      "outputs": []
    },
    {
      "cell_type": "markdown",
      "source": [
        "실시간 속도 모니터링"
      ],
      "metadata": {
        "id": "ASJY56uqr56k"
      }
    },
    {
      "cell_type": "code",
      "source": [
        "current_speed = 0\n",
        "\n",
        "while current_speed <= 100:\n",
        "    print(f\"현재 속도: {current_speed}km/h\")\n",
        "    current_speed += 10"
      ],
      "metadata": {
        "id": "79J3EFEErZkL"
      },
      "execution_count": null,
      "outputs": []
    },
    {
      "cell_type": "markdown",
      "source": [
        "실식간 비디오 처리 while 루프"
      ],
      "metadata": {
        "id": "mxqKu7Jkg8a2"
      }
    },
    {
      "cell_type": "code",
      "execution_count": null,
      "metadata": {
        "id": "jxtfOn4Of398"
      },
      "outputs": [],
      "source": [
        "#기본 비디오 처리 루프\n",
        "while True:\n",
        "    ret,fream=cap.read()\n",
        "    if not ret:\n",
        "      break\n",
        "\n",
        "\n",
        "    results=model(frame)\n",
        "    cv2.imshow('fream',frame)\n",
        "\n",
        "\n",
        "    if cv2.waitKey(1) & 0xFF=ord('q'):\n",
        "      break"
      ]
    },
    {
      "cell_type": "markdown",
      "source": [
        "여러 센서값 검사"
      ],
      "metadata": {
        "id": "o-q0g7Ivr7nJ"
      }
    },
    {
      "cell_type": "code",
      "source": [
        "sensor_values = [50, 30, 70, 20, 90]  # 장애물과의 거리 (cm 단위)\n",
        "\n",
        "for distance in sensor_values:\n",
        "    if distance < 40:\n",
        "        print(\"장애물과 너무 가까움! 속도 줄이기\")\n",
        "    else:\n",
        "        print(\"안전 거리 확보됨\")"
      ],
      "metadata": {
        "id": "ja9rSt2Vrbws"
      },
      "execution_count": null,
      "outputs": []
    },
    {
      "cell_type": "markdown",
      "source": [
        "신호등이 녹색이 될 때까지 대기"
      ],
      "metadata": {
        "id": "gw4jfo2PsCpp"
      }
    },
    {
      "cell_type": "code",
      "source": [
        "traffic_light = \"red\"\n",
        "\n",
        "while traffic_light != \"green\":\n",
        "    print(\"신호 대기 중...\")\n",
        "    # 예제니까 여기서 강제로 바꿔줌 (실제에선 카메라 인식)\n",
        "    traffic_light = input(\"신호등 색 입력: \")\n",
        "print(\"출발합니다!\")"
      ],
      "metadata": {
        "id": "fgw4vntNrc6s"
      },
      "execution_count": null,
      "outputs": []
    },
    {
      "cell_type": "markdown",
      "source": [
        "여러 객체 인식 결과 처리"
      ],
      "metadata": {
        "id": "UKFxFDsRsFJV"
      }
    },
    {
      "cell_type": "code",
      "source": [
        "detected_objects = [\"person\", \"car\", \"bicycle\", \"traffic_light\"]\n",
        "\n",
        "for obj in detected_objects:\n",
        "    if obj == \"person\":\n",
        "        print(\"보행자 인식: 속도 줄이기\")\n",
        "    elif obj == \"car\":\n",
        "        print(\"앞 차량 감지: 차간거리 유지\")\n",
        "    else:\n",
        "        print(f\"{obj} 감지됨: 참고 정보\")"
      ],
      "metadata": {
        "id": "jJmTLtC5reFx"
      },
      "execution_count": null,
      "outputs": []
    }
  ]
}